{
 "cells": [
  {
   "cell_type": "code",
   "execution_count": 15,
   "id": "c4be43be",
   "metadata": {},
   "outputs": [
    {
     "data": {
      "text/plain": [
       "[1.0, 1.0, 1.0, 1.0, 1.0]"
      ]
     },
     "execution_count": 15,
     "metadata": {},
     "output_type": "execute_result"
    }
   ],
   "source": [
    "#ex1\n",
    "import numpy as np\n",
    "array=np.ones(5)\n",
    "array = array.tolist()\n",
    "print(array)"
   ]
  },
  {
   "cell_type": "code",
   "execution_count": 21,
   "id": "57298669",
   "metadata": {},
   "outputs": [
    {
     "name": "stdout",
     "output_type": "stream",
     "text": [
      "9\n"
     ]
    }
   ],
   "source": [
    "#ex2\n",
    "import numpy as np\n",
    "s=0\n",
    "a=np.array([[2,5],[3,7]])\n",
    "for i in range(a.shape[0]):\n",
    "    s+=a[i,i]\n",
    "print(s)"
   ]
  },
  {
   "cell_type": "code",
   "execution_count": 22,
   "id": "5eb13941",
   "metadata": {},
   "outputs": [],
   "source": [
    "#ex3\n",
    "import numpy as np \n",
    "array=np.array([[1,2],[3,5]])\n",
    "array = array[array > 2] "
   ]
  },
  {
   "cell_type": "code",
   "execution_count": 23,
   "id": "97d122ec",
   "metadata": {},
   "outputs": [
    {
     "data": {
      "text/plain": [
       "array([3, 5])"
      ]
     },
     "execution_count": 23,
     "metadata": {},
     "output_type": "execute_result"
    }
   ],
   "source": [
    "array"
   ]
  },
  {
   "cell_type": "code",
   "execution_count": 42,
   "id": "6b210458",
   "metadata": {},
   "outputs": [],
   "source": [
    "#ex4\n",
    "import numpy as np \n",
    "a=np.array([[1,5],[7,7]])\n",
    "b=np.array([[4,9],[8,7]])\n",
    "for i in range (a.shape[0]):\n",
    "    for j in range(a.shape[1]):\n",
    "        c[i,j]=a[i,j]+b[i,j]"
   ]
  },
  {
   "cell_type": "code",
   "execution_count": 43,
   "id": "3b386ab5",
   "metadata": {},
   "outputs": [
    {
     "data": {
      "text/plain": [
       "array([[ 5, 14],\n",
       "       [15, 14]])"
      ]
     },
     "execution_count": 43,
     "metadata": {},
     "output_type": "execute_result"
    }
   ],
   "source": [
    "c"
   ]
  },
  {
   "cell_type": "code",
   "execution_count": 31,
   "id": "a057cfba",
   "metadata": {},
   "outputs": [],
   "source": [
    "#ex5\n",
    "import numpy as np\n",
    "a=np.array([[1,5],[7,7]])\n",
    "lista =[]\n",
    "for i in a:\n",
    "    moy = i.mean()\n",
    "    for j in i:\n",
    "        j = j-moy\n",
    "        lista.append(j)\n",
    "array = np.array(lista)"
   ]
  },
  {
   "cell_type": "code",
   "execution_count": 32,
   "id": "3d121f4e",
   "metadata": {},
   "outputs": [
    {
     "data": {
      "text/plain": [
       "array([[-2.,  2.],\n",
       "       [ 0.,  0.]])"
      ]
     },
     "execution_count": 32,
     "metadata": {},
     "output_type": "execute_result"
    }
   ],
   "source": [
    "array.reshape(2,2)"
   ]
  },
  {
   "cell_type": "code",
   "execution_count": 41,
   "id": "46146003",
   "metadata": {},
   "outputs": [
    {
     "data": {
      "text/plain": [
       "array([[-1.66666667,  2.33333333, -0.66666667],\n",
       "       [ 0.33333333,  0.33333333, -0.66666667]])"
      ]
     },
     "execution_count": 41,
     "metadata": {},
     "output_type": "execute_result"
    }
   ],
   "source": [
    "import numpy as np\n",
    "a=np.array([[1,5,2],[7,7,6]])\n",
    "at=a.T\n",
    "c=at-at.mean(axis=0)\n",
    "c=c.T\n",
    "c"
   ]
  },
  {
   "cell_type": "code",
   "execution_count": 42,
   "id": "b1598fcd",
   "metadata": {},
   "outputs": [
    {
     "data": {
      "text/plain": [
       "array([[-1.66666667,  2.33333333, -0.66666667],\n",
       "       [ 0.33333333,  0.33333333, -0.66666667]])"
      ]
     },
     "execution_count": 42,
     "metadata": {},
     "output_type": "execute_result"
    }
   ],
   "source": [
    "a=np.array([[1,5,2],[7,7,6]]).reshape(2,3)\n",
    "a-a.mean(axis=1,keepdims=True)"
   ]
  },
  {
   "cell_type": "code",
   "execution_count": null,
   "id": "f4e8a98e",
   "metadata": {},
   "outputs": [],
   "source": []
  }
 ],
 "metadata": {
  "kernelspec": {
   "display_name": "Python 3 (ipykernel)",
   "language": "python",
   "name": "python3"
  },
  "language_info": {
   "codemirror_mode": {
    "name": "ipython",
    "version": 3
   },
   "file_extension": ".py",
   "mimetype": "text/x-python",
   "name": "python",
   "nbconvert_exporter": "python",
   "pygments_lexer": "ipython3",
   "version": "3.9.12"
  }
 },
 "nbformat": 4,
 "nbformat_minor": 5
}
